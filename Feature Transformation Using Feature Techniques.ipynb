{
 "cells": [
  {
   "cell_type": "code",
   "execution_count": 1,
   "id": "2f0bcc80",
   "metadata": {},
   "outputs": [],
   "source": [
    "import pandas as pd"
   ]
  },
  {
   "cell_type": "markdown",
   "id": "7e21973c",
   "metadata": {},
   "source": [
    "# Normalization/ Min Max Scaller"
   ]
  },
  {
   "cell_type": "code",
   "execution_count": 2,
   "id": "4285d733",
   "metadata": {},
   "outputs": [],
   "source": [
    "df_For_Normalization = pd.read_csv(\"agora.csv\")"
   ]
  },
  {
   "cell_type": "code",
   "execution_count": 61,
   "id": "6b62f34e",
   "metadata": {},
   "outputs": [
    {
     "data": {
      "text/html": [
       "<div>\n",
       "<style scoped>\n",
       "    .dataframe tbody tr th:only-of-type {\n",
       "        vertical-align: middle;\n",
       "    }\n",
       "\n",
       "    .dataframe tbody tr th {\n",
       "        vertical-align: top;\n",
       "    }\n",
       "\n",
       "    .dataframe thead th {\n",
       "        text-align: right;\n",
       "    }\n",
       "</style>\n",
       "<table border=\"1\" class=\"dataframe\">\n",
       "  <thead>\n",
       "    <tr style=\"text-align: right;\">\n",
       "      <th></th>\n",
       "      <th>Marketing Spend</th>\n",
       "      <th>Administration</th>\n",
       "      <th>Transport</th>\n",
       "      <th>Area</th>\n",
       "      <th>Profit</th>\n",
       "    </tr>\n",
       "  </thead>\n",
       "  <tbody>\n",
       "    <tr>\n",
       "      <th>0</th>\n",
       "      <td>8.463083</td>\n",
       "      <td>8.258720</td>\n",
       "      <td>10.000000</td>\n",
       "      <td>Dhaka</td>\n",
       "      <td>192261.83</td>\n",
       "    </tr>\n",
       "    <tr>\n",
       "      <th>1</th>\n",
       "      <td>9.916797</td>\n",
       "      <td>8.809859</td>\n",
       "      <td>9.704467</td>\n",
       "      <td>Ctg</td>\n",
       "      <td>191792.06</td>\n",
       "    </tr>\n",
       "    <tr>\n",
       "      <th>2</th>\n",
       "      <td>9.639923</td>\n",
       "      <td>6.897895</td>\n",
       "      <td>9.323318</td>\n",
       "      <td>Rangpur</td>\n",
       "      <td>191050.39</td>\n",
       "    </tr>\n",
       "    <tr>\n",
       "      <th>3</th>\n",
       "      <td>9.365682</td>\n",
       "      <td>7.564992</td>\n",
       "      <td>9.061176</td>\n",
       "      <td>Dhaka</td>\n",
       "      <td>182901.99</td>\n",
       "    </tr>\n",
       "    <tr>\n",
       "      <th>4</th>\n",
       "      <td>9.297189</td>\n",
       "      <td>6.526640</td>\n",
       "      <td>8.880678</td>\n",
       "      <td>Rangpur</td>\n",
       "      <td>166187.94</td>\n",
       "    </tr>\n",
       "  </tbody>\n",
       "</table>\n",
       "</div>"
      ],
      "text/plain": [
       "   Marketing Spend  Administration  Transport     Area     Profit\n",
       "0         8.463083        8.258720  10.000000    Dhaka  192261.83\n",
       "1         9.916797        8.809859   9.704467      Ctg  191792.06\n",
       "2         9.639923        6.897895   9.323318  Rangpur  191050.39\n",
       "3         9.365682        7.564992   9.061176    Dhaka  182901.99\n",
       "4         9.297189        6.526640   8.880678  Rangpur  166187.94"
      ]
     },
     "execution_count": 61,
     "metadata": {},
     "output_type": "execute_result"
    }
   ],
   "source": [
    "df_For_Normalization.head()"
   ]
  },
  {
   "cell_type": "code",
   "execution_count": 4,
   "id": "3fbd0b43",
   "metadata": {},
   "outputs": [],
   "source": [
    "from sklearn.preprocessing import MinMaxScaler"
   ]
  },
  {
   "cell_type": "code",
   "execution_count": 5,
   "id": "7d82409a",
   "metadata": {},
   "outputs": [],
   "source": [
    "N = MinMaxScaler(feature_range=(5,10))"
   ]
  },
  {
   "cell_type": "code",
   "execution_count": 6,
   "id": "7ff83db2",
   "metadata": {},
   "outputs": [],
   "source": [
    "df_For_Normalization[\"Marketing Spend\"] = N.fit_transform(df_For_Normalization[[\"Marketing Spend\"]])#traning and transforming for Marketing Spend colum"
   ]
  },
  {
   "cell_type": "code",
   "execution_count": 7,
   "id": "54ff6a34",
   "metadata": {},
   "outputs": [
    {
     "data": {
      "text/html": [
       "<div>\n",
       "<style scoped>\n",
       "    .dataframe tbody tr th:only-of-type {\n",
       "        vertical-align: middle;\n",
       "    }\n",
       "\n",
       "    .dataframe tbody tr th {\n",
       "        vertical-align: top;\n",
       "    }\n",
       "\n",
       "    .dataframe thead th {\n",
       "        text-align: right;\n",
       "    }\n",
       "</style>\n",
       "<table border=\"1\" class=\"dataframe\">\n",
       "  <thead>\n",
       "    <tr style=\"text-align: right;\">\n",
       "      <th></th>\n",
       "      <th>Marketing Spend</th>\n",
       "      <th>Administration</th>\n",
       "      <th>Transport</th>\n",
       "      <th>Area</th>\n",
       "      <th>Profit</th>\n",
       "    </tr>\n",
       "  </thead>\n",
       "  <tbody>\n",
       "    <tr>\n",
       "      <th>0</th>\n",
       "      <td>8.463083</td>\n",
       "      <td>136897.80</td>\n",
       "      <td>471784.10</td>\n",
       "      <td>Dhaka</td>\n",
       "      <td>192261.83</td>\n",
       "    </tr>\n",
       "    <tr>\n",
       "      <th>1</th>\n",
       "      <td>9.916797</td>\n",
       "      <td>151377.59</td>\n",
       "      <td>443898.53</td>\n",
       "      <td>Ctg</td>\n",
       "      <td>191792.06</td>\n",
       "    </tr>\n",
       "    <tr>\n",
       "      <th>2</th>\n",
       "      <td>9.639923</td>\n",
       "      <td>101145.55</td>\n",
       "      <td>407934.54</td>\n",
       "      <td>Rangpur</td>\n",
       "      <td>191050.39</td>\n",
       "    </tr>\n",
       "    <tr>\n",
       "      <th>3</th>\n",
       "      <td>9.365682</td>\n",
       "      <td>118671.85</td>\n",
       "      <td>383199.62</td>\n",
       "      <td>Dhaka</td>\n",
       "      <td>182901.99</td>\n",
       "    </tr>\n",
       "    <tr>\n",
       "      <th>4</th>\n",
       "      <td>9.297189</td>\n",
       "      <td>91391.77</td>\n",
       "      <td>366168.42</td>\n",
       "      <td>Rangpur</td>\n",
       "      <td>166187.94</td>\n",
       "    </tr>\n",
       "  </tbody>\n",
       "</table>\n",
       "</div>"
      ],
      "text/plain": [
       "   Marketing Spend  Administration  Transport     Area     Profit\n",
       "0         8.463083       136897.80  471784.10    Dhaka  192261.83\n",
       "1         9.916797       151377.59  443898.53      Ctg  191792.06\n",
       "2         9.639923       101145.55  407934.54  Rangpur  191050.39\n",
       "3         9.365682       118671.85  383199.62    Dhaka  182901.99\n",
       "4         9.297189        91391.77  366168.42  Rangpur  166187.94"
      ]
     },
     "execution_count": 7,
     "metadata": {},
     "output_type": "execute_result"
    }
   ],
   "source": [
    "df_For_Normalization.head()"
   ]
  },
  {
   "cell_type": "code",
   "execution_count": 8,
   "id": "f30679dc",
   "metadata": {},
   "outputs": [],
   "source": [
    "ad_fit_normalization = N.fit(df_For_Normalization[[\"Administration\"]])# training administration"
   ]
  },
  {
   "cell_type": "code",
   "execution_count": 9,
   "id": "e660aa5d",
   "metadata": {},
   "outputs": [
    {
     "data": {
      "text/plain": [
       "MinMaxScaler(feature_range=(5, 10))"
      ]
     },
     "execution_count": 9,
     "metadata": {},
     "output_type": "execute_result"
    }
   ],
   "source": [
    "ad_fit_normalization"
   ]
  },
  {
   "cell_type": "code",
   "execution_count": 10,
   "id": "e0574e67",
   "metadata": {},
   "outputs": [],
   "source": [
    "df_For_Normalization[\"Administration\"]=N.transform(df_For_Normalization[[\"Administration\"]])#transform administration"
   ]
  },
  {
   "cell_type": "code",
   "execution_count": 11,
   "id": "47261d92",
   "metadata": {},
   "outputs": [
    {
     "data": {
      "text/html": [
       "<div>\n",
       "<style scoped>\n",
       "    .dataframe tbody tr th:only-of-type {\n",
       "        vertical-align: middle;\n",
       "    }\n",
       "\n",
       "    .dataframe tbody tr th {\n",
       "        vertical-align: top;\n",
       "    }\n",
       "\n",
       "    .dataframe thead th {\n",
       "        text-align: right;\n",
       "    }\n",
       "</style>\n",
       "<table border=\"1\" class=\"dataframe\">\n",
       "  <thead>\n",
       "    <tr style=\"text-align: right;\">\n",
       "      <th></th>\n",
       "      <th>Marketing Spend</th>\n",
       "      <th>Administration</th>\n",
       "      <th>Transport</th>\n",
       "      <th>Area</th>\n",
       "      <th>Profit</th>\n",
       "    </tr>\n",
       "  </thead>\n",
       "  <tbody>\n",
       "    <tr>\n",
       "      <th>0</th>\n",
       "      <td>8.463083</td>\n",
       "      <td>8.258720</td>\n",
       "      <td>471784.10</td>\n",
       "      <td>Dhaka</td>\n",
       "      <td>192261.83</td>\n",
       "    </tr>\n",
       "    <tr>\n",
       "      <th>1</th>\n",
       "      <td>9.916797</td>\n",
       "      <td>8.809859</td>\n",
       "      <td>443898.53</td>\n",
       "      <td>Ctg</td>\n",
       "      <td>191792.06</td>\n",
       "    </tr>\n",
       "    <tr>\n",
       "      <th>2</th>\n",
       "      <td>9.639923</td>\n",
       "      <td>6.897895</td>\n",
       "      <td>407934.54</td>\n",
       "      <td>Rangpur</td>\n",
       "      <td>191050.39</td>\n",
       "    </tr>\n",
       "    <tr>\n",
       "      <th>3</th>\n",
       "      <td>9.365682</td>\n",
       "      <td>7.564992</td>\n",
       "      <td>383199.62</td>\n",
       "      <td>Dhaka</td>\n",
       "      <td>182901.99</td>\n",
       "    </tr>\n",
       "    <tr>\n",
       "      <th>4</th>\n",
       "      <td>9.297189</td>\n",
       "      <td>6.526640</td>\n",
       "      <td>366168.42</td>\n",
       "      <td>Rangpur</td>\n",
       "      <td>166187.94</td>\n",
       "    </tr>\n",
       "  </tbody>\n",
       "</table>\n",
       "</div>"
      ],
      "text/plain": [
       "   Marketing Spend  Administration  Transport     Area     Profit\n",
       "0         8.463083        8.258720  471784.10    Dhaka  192261.83\n",
       "1         9.916797        8.809859  443898.53      Ctg  191792.06\n",
       "2         9.639923        6.897895  407934.54  Rangpur  191050.39\n",
       "3         9.365682        7.564992  383199.62    Dhaka  182901.99\n",
       "4         9.297189        6.526640  366168.42  Rangpur  166187.94"
      ]
     },
     "execution_count": 11,
     "metadata": {},
     "output_type": "execute_result"
    }
   ],
   "source": [
    "df_For_Normalization.head()"
   ]
  },
  {
   "cell_type": "code",
   "execution_count": 12,
   "id": "537a88d4",
   "metadata": {},
   "outputs": [],
   "source": [
    "df_For_Normalization[\"Transport\"] = N.fit_transform(df_For_Normalization[[\"Transport\"]])"
   ]
  },
  {
   "cell_type": "code",
   "execution_count": 13,
   "id": "a5f5b29b",
   "metadata": {},
   "outputs": [
    {
     "data": {
      "text/html": [
       "<div>\n",
       "<style scoped>\n",
       "    .dataframe tbody tr th:only-of-type {\n",
       "        vertical-align: middle;\n",
       "    }\n",
       "\n",
       "    .dataframe tbody tr th {\n",
       "        vertical-align: top;\n",
       "    }\n",
       "\n",
       "    .dataframe thead th {\n",
       "        text-align: right;\n",
       "    }\n",
       "</style>\n",
       "<table border=\"1\" class=\"dataframe\">\n",
       "  <thead>\n",
       "    <tr style=\"text-align: right;\">\n",
       "      <th></th>\n",
       "      <th>Marketing Spend</th>\n",
       "      <th>Administration</th>\n",
       "      <th>Transport</th>\n",
       "      <th>Area</th>\n",
       "      <th>Profit</th>\n",
       "    </tr>\n",
       "  </thead>\n",
       "  <tbody>\n",
       "    <tr>\n",
       "      <th>0</th>\n",
       "      <td>8.463083</td>\n",
       "      <td>8.258720</td>\n",
       "      <td>10.000000</td>\n",
       "      <td>Dhaka</td>\n",
       "      <td>192261.83</td>\n",
       "    </tr>\n",
       "    <tr>\n",
       "      <th>1</th>\n",
       "      <td>9.916797</td>\n",
       "      <td>8.809859</td>\n",
       "      <td>9.704467</td>\n",
       "      <td>Ctg</td>\n",
       "      <td>191792.06</td>\n",
       "    </tr>\n",
       "    <tr>\n",
       "      <th>2</th>\n",
       "      <td>9.639923</td>\n",
       "      <td>6.897895</td>\n",
       "      <td>9.323318</td>\n",
       "      <td>Rangpur</td>\n",
       "      <td>191050.39</td>\n",
       "    </tr>\n",
       "    <tr>\n",
       "      <th>3</th>\n",
       "      <td>9.365682</td>\n",
       "      <td>7.564992</td>\n",
       "      <td>9.061176</td>\n",
       "      <td>Dhaka</td>\n",
       "      <td>182901.99</td>\n",
       "    </tr>\n",
       "    <tr>\n",
       "      <th>4</th>\n",
       "      <td>9.297189</td>\n",
       "      <td>6.526640</td>\n",
       "      <td>8.880678</td>\n",
       "      <td>Rangpur</td>\n",
       "      <td>166187.94</td>\n",
       "    </tr>\n",
       "  </tbody>\n",
       "</table>\n",
       "</div>"
      ],
      "text/plain": [
       "   Marketing Spend  Administration  Transport     Area     Profit\n",
       "0         8.463083        8.258720  10.000000    Dhaka  192261.83\n",
       "1         9.916797        8.809859   9.704467      Ctg  191792.06\n",
       "2         9.639923        6.897895   9.323318  Rangpur  191050.39\n",
       "3         9.365682        7.564992   9.061176    Dhaka  182901.99\n",
       "4         9.297189        6.526640   8.880678  Rangpur  166187.94"
      ]
     },
     "execution_count": 13,
     "metadata": {},
     "output_type": "execute_result"
    }
   ],
   "source": [
    "df_For_Normalization.head()"
   ]
  },
  {
   "cell_type": "markdown",
   "id": "9ce52571",
   "metadata": {},
   "source": [
    "# Standardization"
   ]
  },
  {
   "cell_type": "code",
   "execution_count": 14,
   "id": "d4fa7118",
   "metadata": {},
   "outputs": [],
   "source": [
    "df_for_Standardization = pd.read_csv(\"agora.csv\")"
   ]
  },
  {
   "cell_type": "code",
   "execution_count": 15,
   "id": "9a266be3",
   "metadata": {},
   "outputs": [],
   "source": [
    "from sklearn.preprocessing import StandardScaler"
   ]
  },
  {
   "cell_type": "code",
   "execution_count": 16,
   "id": "9abd3416",
   "metadata": {},
   "outputs": [],
   "source": [
    "S =StandardScaler()\n",
    " "
   ]
  },
  {
   "cell_type": "code",
   "execution_count": 17,
   "id": "8833e8eb",
   "metadata": {},
   "outputs": [],
   "source": [
    "df_for_Standardization[\"Marketing Spend\"]= S.fit_transform(df_for_Standardization[[\"Marketing Spend\"]])"
   ]
  },
  {
   "cell_type": "code",
   "execution_count": 18,
   "id": "0d54b2de",
   "metadata": {},
   "outputs": [
    {
     "data": {
      "text/plain": [
       "0    0.897913\n",
       "1    1.955860\n",
       "2    1.754364\n",
       "3    1.554784\n",
       "4    1.504937\n",
       "Name: Marketing Spend, dtype: float64"
      ]
     },
     "execution_count": 18,
     "metadata": {},
     "output_type": "execute_result"
    }
   ],
   "source": [
    "df_for_Standardization[\"Marketing Spend\"].head()"
   ]
  },
  {
   "cell_type": "code",
   "execution_count": 19,
   "id": "6658fd90",
   "metadata": {},
   "outputs": [],
   "source": [
    "df_for_Standardization[\"Administration\"]= S.fit_transform(df_for_Standardization[[\"Administration\"]])"
   ]
  },
  {
   "cell_type": "code",
   "execution_count": 20,
   "id": "0f85ee76",
   "metadata": {},
   "outputs": [
    {
     "data": {
      "text/html": [
       "<div>\n",
       "<style scoped>\n",
       "    .dataframe tbody tr th:only-of-type {\n",
       "        vertical-align: middle;\n",
       "    }\n",
       "\n",
       "    .dataframe tbody tr th {\n",
       "        vertical-align: top;\n",
       "    }\n",
       "\n",
       "    .dataframe thead th {\n",
       "        text-align: right;\n",
       "    }\n",
       "</style>\n",
       "<table border=\"1\" class=\"dataframe\">\n",
       "  <thead>\n",
       "    <tr style=\"text-align: right;\">\n",
       "      <th></th>\n",
       "      <th>Marketing Spend</th>\n",
       "      <th>Administration</th>\n",
       "      <th>Transport</th>\n",
       "      <th>Area</th>\n",
       "      <th>Profit</th>\n",
       "    </tr>\n",
       "  </thead>\n",
       "  <tbody>\n",
       "    <tr>\n",
       "      <th>0</th>\n",
       "      <td>0.897913</td>\n",
       "      <td>0.560753</td>\n",
       "      <td>471784.10</td>\n",
       "      <td>Dhaka</td>\n",
       "      <td>192261.83</td>\n",
       "    </tr>\n",
       "    <tr>\n",
       "      <th>1</th>\n",
       "      <td>1.955860</td>\n",
       "      <td>1.082807</td>\n",
       "      <td>443898.53</td>\n",
       "      <td>Ctg</td>\n",
       "      <td>191792.06</td>\n",
       "    </tr>\n",
       "    <tr>\n",
       "      <th>2</th>\n",
       "      <td>1.754364</td>\n",
       "      <td>-0.728257</td>\n",
       "      <td>407934.54</td>\n",
       "      <td>Rangpur</td>\n",
       "      <td>191050.39</td>\n",
       "    </tr>\n",
       "    <tr>\n",
       "      <th>3</th>\n",
       "      <td>1.554784</td>\n",
       "      <td>-0.096365</td>\n",
       "      <td>383199.62</td>\n",
       "      <td>Dhaka</td>\n",
       "      <td>182901.99</td>\n",
       "    </tr>\n",
       "    <tr>\n",
       "      <th>4</th>\n",
       "      <td>1.504937</td>\n",
       "      <td>-1.079919</td>\n",
       "      <td>366168.42</td>\n",
       "      <td>Rangpur</td>\n",
       "      <td>166187.94</td>\n",
       "    </tr>\n",
       "  </tbody>\n",
       "</table>\n",
       "</div>"
      ],
      "text/plain": [
       "   Marketing Spend  Administration  Transport     Area     Profit\n",
       "0         0.897913        0.560753  471784.10    Dhaka  192261.83\n",
       "1         1.955860        1.082807  443898.53      Ctg  191792.06\n",
       "2         1.754364       -0.728257  407934.54  Rangpur  191050.39\n",
       "3         1.554784       -0.096365  383199.62    Dhaka  182901.99\n",
       "4         1.504937       -1.079919  366168.42  Rangpur  166187.94"
      ]
     },
     "execution_count": 20,
     "metadata": {},
     "output_type": "execute_result"
    }
   ],
   "source": [
    "df_for_Standardization.head()"
   ]
  },
  {
   "cell_type": "code",
   "execution_count": 21,
   "id": "5e599fb2",
   "metadata": {},
   "outputs": [],
   "source": [
    "df_for_Standardization[\"Transport\"]= S.fit_transform(df_for_Standardization[[\"Transport\"]])"
   ]
  },
  {
   "cell_type": "code",
   "execution_count": 22,
   "id": "2ab20ece",
   "metadata": {},
   "outputs": [
    {
     "data": {
      "text/html": [
       "<div>\n",
       "<style scoped>\n",
       "    .dataframe tbody tr th:only-of-type {\n",
       "        vertical-align: middle;\n",
       "    }\n",
       "\n",
       "    .dataframe tbody tr th {\n",
       "        vertical-align: top;\n",
       "    }\n",
       "\n",
       "    .dataframe thead th {\n",
       "        text-align: right;\n",
       "    }\n",
       "</style>\n",
       "<table border=\"1\" class=\"dataframe\">\n",
       "  <thead>\n",
       "    <tr style=\"text-align: right;\">\n",
       "      <th></th>\n",
       "      <th>Marketing Spend</th>\n",
       "      <th>Administration</th>\n",
       "      <th>Transport</th>\n",
       "      <th>Area</th>\n",
       "      <th>Profit</th>\n",
       "    </tr>\n",
       "  </thead>\n",
       "  <tbody>\n",
       "    <tr>\n",
       "      <th>0</th>\n",
       "      <td>0.897913</td>\n",
       "      <td>0.560753</td>\n",
       "      <td>2.165287</td>\n",
       "      <td>Dhaka</td>\n",
       "      <td>192261.83</td>\n",
       "    </tr>\n",
       "    <tr>\n",
       "      <th>1</th>\n",
       "      <td>1.955860</td>\n",
       "      <td>1.082807</td>\n",
       "      <td>1.929843</td>\n",
       "      <td>Ctg</td>\n",
       "      <td>191792.06</td>\n",
       "    </tr>\n",
       "    <tr>\n",
       "      <th>2</th>\n",
       "      <td>1.754364</td>\n",
       "      <td>-0.728257</td>\n",
       "      <td>1.626191</td>\n",
       "      <td>Rangpur</td>\n",
       "      <td>191050.39</td>\n",
       "    </tr>\n",
       "    <tr>\n",
       "      <th>3</th>\n",
       "      <td>1.554784</td>\n",
       "      <td>-0.096365</td>\n",
       "      <td>1.417348</td>\n",
       "      <td>Dhaka</td>\n",
       "      <td>182901.99</td>\n",
       "    </tr>\n",
       "    <tr>\n",
       "      <th>4</th>\n",
       "      <td>1.504937</td>\n",
       "      <td>-1.079919</td>\n",
       "      <td>1.273550</td>\n",
       "      <td>Rangpur</td>\n",
       "      <td>166187.94</td>\n",
       "    </tr>\n",
       "  </tbody>\n",
       "</table>\n",
       "</div>"
      ],
      "text/plain": [
       "   Marketing Spend  Administration  Transport     Area     Profit\n",
       "0         0.897913        0.560753   2.165287    Dhaka  192261.83\n",
       "1         1.955860        1.082807   1.929843      Ctg  191792.06\n",
       "2         1.754364       -0.728257   1.626191  Rangpur  191050.39\n",
       "3         1.554784       -0.096365   1.417348    Dhaka  182901.99\n",
       "4         1.504937       -1.079919   1.273550  Rangpur  166187.94"
      ]
     },
     "execution_count": 22,
     "metadata": {},
     "output_type": "execute_result"
    }
   ],
   "source": [
    "df_for_Standardization.head()"
   ]
  },
  {
   "cell_type": "markdown",
   "id": "83e5e0aa",
   "metadata": {},
   "source": [
    "# Max Absulate Scaler"
   ]
  },
  {
   "cell_type": "code",
   "execution_count": 24,
   "id": "56cb3859",
   "metadata": {},
   "outputs": [],
   "source": [
    "df_for_Max_Absulate_Scaler = pd.read_csv(\"agora.csv\")"
   ]
  },
  {
   "cell_type": "code",
   "execution_count": 28,
   "id": "08fe16fb",
   "metadata": {},
   "outputs": [],
   "source": [
    "abs_Marketing_Spend = df_for_Max_Absulate_Scaler[\"Marketing Spend\"].abs()"
   ]
  },
  {
   "cell_type": "code",
   "execution_count": 31,
   "id": "ec9b5a3e",
   "metadata": {},
   "outputs": [],
   "source": [
    "max_Marketing_Spend =abs_Marketing_Spend.max()"
   ]
  },
  {
   "cell_type": "code",
   "execution_count": 33,
   "id": "8f159979",
   "metadata": {},
   "outputs": [],
   "source": [
    "df_for_Max_Absulate_Scaler[\"Marketing Spend\"] =df_for_Max_Absulate_Scaler[\"Marketing Spend\"]/max_Marketing_Spend"
   ]
  },
  {
   "cell_type": "code",
   "execution_count": 35,
   "id": "420799bc",
   "metadata": {},
   "outputs": [
    {
     "data": {
      "text/html": [
       "<div>\n",
       "<style scoped>\n",
       "    .dataframe tbody tr th:only-of-type {\n",
       "        vertical-align: middle;\n",
       "    }\n",
       "\n",
       "    .dataframe tbody tr th {\n",
       "        vertical-align: top;\n",
       "    }\n",
       "\n",
       "    .dataframe thead th {\n",
       "        text-align: right;\n",
       "    }\n",
       "</style>\n",
       "<table border=\"1\" class=\"dataframe\">\n",
       "  <thead>\n",
       "    <tr style=\"text-align: right;\">\n",
       "      <th></th>\n",
       "      <th>Marketing Spend</th>\n",
       "      <th>Administration</th>\n",
       "      <th>Transport</th>\n",
       "      <th>Area</th>\n",
       "      <th>Profit</th>\n",
       "    </tr>\n",
       "  </thead>\n",
       "  <tbody>\n",
       "    <tr>\n",
       "      <th>0</th>\n",
       "      <td>0.692617</td>\n",
       "      <td>136897.80</td>\n",
       "      <td>471784.10</td>\n",
       "      <td>Dhaka</td>\n",
       "      <td>192261.83</td>\n",
       "    </tr>\n",
       "    <tr>\n",
       "      <th>1</th>\n",
       "      <td>0.983359</td>\n",
       "      <td>151377.59</td>\n",
       "      <td>443898.53</td>\n",
       "      <td>Ctg</td>\n",
       "      <td>191792.06</td>\n",
       "    </tr>\n",
       "    <tr>\n",
       "      <th>2</th>\n",
       "      <td>0.927985</td>\n",
       "      <td>101145.55</td>\n",
       "      <td>407934.54</td>\n",
       "      <td>Rangpur</td>\n",
       "      <td>191050.39</td>\n",
       "    </tr>\n",
       "    <tr>\n",
       "      <th>3</th>\n",
       "      <td>0.873136</td>\n",
       "      <td>118671.85</td>\n",
       "      <td>383199.62</td>\n",
       "      <td>Dhaka</td>\n",
       "      <td>182901.99</td>\n",
       "    </tr>\n",
       "    <tr>\n",
       "      <th>4</th>\n",
       "      <td>0.859438</td>\n",
       "      <td>91391.77</td>\n",
       "      <td>366168.42</td>\n",
       "      <td>Rangpur</td>\n",
       "      <td>166187.94</td>\n",
       "    </tr>\n",
       "  </tbody>\n",
       "</table>\n",
       "</div>"
      ],
      "text/plain": [
       "   Marketing Spend  Administration  Transport     Area     Profit\n",
       "0         0.692617       136897.80  471784.10    Dhaka  192261.83\n",
       "1         0.983359       151377.59  443898.53      Ctg  191792.06\n",
       "2         0.927985       101145.55  407934.54  Rangpur  191050.39\n",
       "3         0.873136       118671.85  383199.62    Dhaka  182901.99\n",
       "4         0.859438        91391.77  366168.42  Rangpur  166187.94"
      ]
     },
     "execution_count": 35,
     "metadata": {},
     "output_type": "execute_result"
    }
   ],
   "source": [
    "df_for_Max_Absulate_Scaler.head()"
   ]
  },
  {
   "cell_type": "code",
   "execution_count": 36,
   "id": "c548fed8",
   "metadata": {},
   "outputs": [],
   "source": [
    "abs_Administration = df_for_Max_Absulate_Scaler[\"Administration\"].abs()"
   ]
  },
  {
   "cell_type": "code",
   "execution_count": 37,
   "id": "74148edf",
   "metadata": {},
   "outputs": [],
   "source": [
    "max_Administration  =abs_Administration.max()"
   ]
  },
  {
   "cell_type": "code",
   "execution_count": 40,
   "id": "7f1810d3",
   "metadata": {},
   "outputs": [],
   "source": [
    "df_for_Max_Absulate_Scaler[\"Administration\"] =df_for_Max_Absulate_Scaler[\"Administration\"]/max_Administration"
   ]
  },
  {
   "cell_type": "code",
   "execution_count": 41,
   "id": "0955abcd",
   "metadata": {},
   "outputs": [
    {
     "data": {
      "text/html": [
       "<div>\n",
       "<style scoped>\n",
       "    .dataframe tbody tr th:only-of-type {\n",
       "        vertical-align: middle;\n",
       "    }\n",
       "\n",
       "    .dataframe tbody tr th {\n",
       "        vertical-align: top;\n",
       "    }\n",
       "\n",
       "    .dataframe thead th {\n",
       "        text-align: right;\n",
       "    }\n",
       "</style>\n",
       "<table border=\"1\" class=\"dataframe\">\n",
       "  <thead>\n",
       "    <tr style=\"text-align: right;\">\n",
       "      <th></th>\n",
       "      <th>Marketing Spend</th>\n",
       "      <th>Administration</th>\n",
       "      <th>Transport</th>\n",
       "      <th>Area</th>\n",
       "      <th>Profit</th>\n",
       "    </tr>\n",
       "  </thead>\n",
       "  <tbody>\n",
       "    <tr>\n",
       "      <th>0</th>\n",
       "      <td>0.692617</td>\n",
       "      <td>0.749527</td>\n",
       "      <td>471784.10</td>\n",
       "      <td>Dhaka</td>\n",
       "      <td>192261.83</td>\n",
       "    </tr>\n",
       "    <tr>\n",
       "      <th>1</th>\n",
       "      <td>0.983359</td>\n",
       "      <td>0.828805</td>\n",
       "      <td>443898.53</td>\n",
       "      <td>Ctg</td>\n",
       "      <td>191792.06</td>\n",
       "    </tr>\n",
       "    <tr>\n",
       "      <th>2</th>\n",
       "      <td>0.927985</td>\n",
       "      <td>0.553781</td>\n",
       "      <td>407934.54</td>\n",
       "      <td>Rangpur</td>\n",
       "      <td>191050.39</td>\n",
       "    </tr>\n",
       "    <tr>\n",
       "      <th>3</th>\n",
       "      <td>0.873136</td>\n",
       "      <td>0.649738</td>\n",
       "      <td>383199.62</td>\n",
       "      <td>Dhaka</td>\n",
       "      <td>182901.99</td>\n",
       "    </tr>\n",
       "    <tr>\n",
       "      <th>4</th>\n",
       "      <td>0.859438</td>\n",
       "      <td>0.500378</td>\n",
       "      <td>366168.42</td>\n",
       "      <td>Rangpur</td>\n",
       "      <td>166187.94</td>\n",
       "    </tr>\n",
       "  </tbody>\n",
       "</table>\n",
       "</div>"
      ],
      "text/plain": [
       "   Marketing Spend  Administration  Transport     Area     Profit\n",
       "0         0.692617        0.749527  471784.10    Dhaka  192261.83\n",
       "1         0.983359        0.828805  443898.53      Ctg  191792.06\n",
       "2         0.927985        0.553781  407934.54  Rangpur  191050.39\n",
       "3         0.873136        0.649738  383199.62    Dhaka  182901.99\n",
       "4         0.859438        0.500378  366168.42  Rangpur  166187.94"
      ]
     },
     "execution_count": 41,
     "metadata": {},
     "output_type": "execute_result"
    }
   ],
   "source": [
    "df_for_Max_Absulate_Scaler.head()"
   ]
  },
  {
   "cell_type": "code",
   "execution_count": 42,
   "id": "143893f7",
   "metadata": {},
   "outputs": [],
   "source": [
    "abs_transport = df_for_Max_Absulate_Scaler[\"Transport\"].abs()"
   ]
  },
  {
   "cell_type": "code",
   "execution_count": 43,
   "id": "9d664087",
   "metadata": {},
   "outputs": [],
   "source": [
    "max_transport =abs_transport.max()"
   ]
  },
  {
   "cell_type": "code",
   "execution_count": 46,
   "id": "fc486612",
   "metadata": {},
   "outputs": [],
   "source": [
    "df_for_Max_Absulate_Scaler[\"Transport\"]= df_for_Max_Absulate_Scaler[\"Transport\"]/max_transport"
   ]
  },
  {
   "cell_type": "code",
   "execution_count": 48,
   "id": "065b3e3a",
   "metadata": {},
   "outputs": [
    {
     "data": {
      "text/html": [
       "<div>\n",
       "<style scoped>\n",
       "    .dataframe tbody tr th:only-of-type {\n",
       "        vertical-align: middle;\n",
       "    }\n",
       "\n",
       "    .dataframe tbody tr th {\n",
       "        vertical-align: top;\n",
       "    }\n",
       "\n",
       "    .dataframe thead th {\n",
       "        text-align: right;\n",
       "    }\n",
       "</style>\n",
       "<table border=\"1\" class=\"dataframe\">\n",
       "  <thead>\n",
       "    <tr style=\"text-align: right;\">\n",
       "      <th></th>\n",
       "      <th>Marketing Spend</th>\n",
       "      <th>Administration</th>\n",
       "      <th>Transport</th>\n",
       "      <th>Area</th>\n",
       "      <th>Profit</th>\n",
       "    </tr>\n",
       "  </thead>\n",
       "  <tbody>\n",
       "    <tr>\n",
       "      <th>0</th>\n",
       "      <td>0.692617</td>\n",
       "      <td>0.749527</td>\n",
       "      <td>1.000000</td>\n",
       "      <td>Dhaka</td>\n",
       "      <td>192261.83</td>\n",
       "    </tr>\n",
       "    <tr>\n",
       "      <th>1</th>\n",
       "      <td>0.983359</td>\n",
       "      <td>0.828805</td>\n",
       "      <td>0.940893</td>\n",
       "      <td>Ctg</td>\n",
       "      <td>191792.06</td>\n",
       "    </tr>\n",
       "    <tr>\n",
       "      <th>2</th>\n",
       "      <td>0.927985</td>\n",
       "      <td>0.553781</td>\n",
       "      <td>0.864664</td>\n",
       "      <td>Rangpur</td>\n",
       "      <td>191050.39</td>\n",
       "    </tr>\n",
       "    <tr>\n",
       "      <th>3</th>\n",
       "      <td>0.873136</td>\n",
       "      <td>0.649738</td>\n",
       "      <td>0.812235</td>\n",
       "      <td>Dhaka</td>\n",
       "      <td>182901.99</td>\n",
       "    </tr>\n",
       "    <tr>\n",
       "      <th>4</th>\n",
       "      <td>0.859438</td>\n",
       "      <td>0.500378</td>\n",
       "      <td>0.776136</td>\n",
       "      <td>Rangpur</td>\n",
       "      <td>166187.94</td>\n",
       "    </tr>\n",
       "  </tbody>\n",
       "</table>\n",
       "</div>"
      ],
      "text/plain": [
       "   Marketing Spend  Administration  Transport     Area     Profit\n",
       "0         0.692617        0.749527   1.000000    Dhaka  192261.83\n",
       "1         0.983359        0.828805   0.940893      Ctg  191792.06\n",
       "2         0.927985        0.553781   0.864664  Rangpur  191050.39\n",
       "3         0.873136        0.649738   0.812235    Dhaka  182901.99\n",
       "4         0.859438        0.500378   0.776136  Rangpur  166187.94"
      ]
     },
     "execution_count": 48,
     "metadata": {},
     "output_type": "execute_result"
    }
   ],
   "source": [
    "df_for_Max_Absulate_Scaler.head()"
   ]
  },
  {
   "cell_type": "markdown",
   "id": "13c2a4f2",
   "metadata": {},
   "source": [
    "# Robust Scaler"
   ]
  },
  {
   "cell_type": "code",
   "execution_count": 51,
   "id": "da5f6236",
   "metadata": {},
   "outputs": [],
   "source": [
    "df_for_Robus_scaler = pd.read_csv(\"agora.csv\")"
   ]
  },
  {
   "cell_type": "code",
   "execution_count": 49,
   "id": "f673534a",
   "metadata": {},
   "outputs": [],
   "source": [
    "from sklearn.preprocessing import RobustScaler"
   ]
  },
  {
   "cell_type": "code",
   "execution_count": 52,
   "id": "42353bdd",
   "metadata": {},
   "outputs": [],
   "source": [
    "R = RobustScaler()"
   ]
  },
  {
   "cell_type": "code",
   "execution_count": 55,
   "id": "d9402290",
   "metadata": {},
   "outputs": [],
   "source": [
    "df_for_Robus_scaler[\"Marketing Spend\"] = R.fit_transform(df_for_Robus_scaler[[\"Marketing Spend\"]])"
   ]
  },
  {
   "cell_type": "code",
   "execution_count": 56,
   "id": "03826ca6",
   "metadata": {},
   "outputs": [
    {
     "data": {
      "text/html": [
       "<div>\n",
       "<style scoped>\n",
       "    .dataframe tbody tr th:only-of-type {\n",
       "        vertical-align: middle;\n",
       "    }\n",
       "\n",
       "    .dataframe tbody tr th {\n",
       "        vertical-align: top;\n",
       "    }\n",
       "\n",
       "    .dataframe thead th {\n",
       "        text-align: right;\n",
       "    }\n",
       "</style>\n",
       "<table border=\"1\" class=\"dataframe\">\n",
       "  <thead>\n",
       "    <tr style=\"text-align: right;\">\n",
       "      <th></th>\n",
       "      <th>Marketing Spend</th>\n",
       "      <th>Administration</th>\n",
       "      <th>Transport</th>\n",
       "      <th>Area</th>\n",
       "      <th>Profit</th>\n",
       "    </tr>\n",
       "  </thead>\n",
       "  <tbody>\n",
       "    <tr>\n",
       "      <th>0</th>\n",
       "      <td>0.672530</td>\n",
       "      <td>136897.80</td>\n",
       "      <td>471784.10</td>\n",
       "      <td>Dhaka</td>\n",
       "      <td>192261.83</td>\n",
       "    </tr>\n",
       "    <tr>\n",
       "      <th>1</th>\n",
       "      <td>1.452113</td>\n",
       "      <td>151377.59</td>\n",
       "      <td>443898.53</td>\n",
       "      <td>Ctg</td>\n",
       "      <td>191792.06</td>\n",
       "    </tr>\n",
       "    <tr>\n",
       "      <th>2</th>\n",
       "      <td>1.303634</td>\n",
       "      <td>101145.55</td>\n",
       "      <td>407934.54</td>\n",
       "      <td>Rangpur</td>\n",
       "      <td>191050.39</td>\n",
       "    </tr>\n",
       "    <tr>\n",
       "      <th>3</th>\n",
       "      <td>1.156567</td>\n",
       "      <td>118671.85</td>\n",
       "      <td>383199.62</td>\n",
       "      <td>Dhaka</td>\n",
       "      <td>182901.99</td>\n",
       "    </tr>\n",
       "    <tr>\n",
       "      <th>4</th>\n",
       "      <td>1.119836</td>\n",
       "      <td>91391.77</td>\n",
       "      <td>366168.42</td>\n",
       "      <td>Rangpur</td>\n",
       "      <td>166187.94</td>\n",
       "    </tr>\n",
       "  </tbody>\n",
       "</table>\n",
       "</div>"
      ],
      "text/plain": [
       "   Marketing Spend  Administration  Transport     Area     Profit\n",
       "0         0.672530       136897.80  471784.10    Dhaka  192261.83\n",
       "1         1.452113       151377.59  443898.53      Ctg  191792.06\n",
       "2         1.303634       101145.55  407934.54  Rangpur  191050.39\n",
       "3         1.156567       118671.85  383199.62    Dhaka  182901.99\n",
       "4         1.119836        91391.77  366168.42  Rangpur  166187.94"
      ]
     },
     "execution_count": 56,
     "metadata": {},
     "output_type": "execute_result"
    }
   ],
   "source": [
    "df_for_Robus_scaler.head()"
   ]
  },
  {
   "cell_type": "code",
   "execution_count": 57,
   "id": "c0095b02",
   "metadata": {},
   "outputs": [],
   "source": [
    "df_for_Robus_scaler[\"Administration\"] = R.fit_transform(df_for_Robus_scaler[[\"Administration\"]])"
   ]
  },
  {
   "cell_type": "code",
   "execution_count": 58,
   "id": "af38bf30",
   "metadata": {},
   "outputs": [],
   "source": [
    "df_for_Robus_scaler[\"Transport\"] = R.fit_transform(df_for_Robus_scaler[[\"Transport\"]])"
   ]
  },
  {
   "cell_type": "code",
   "execution_count": 60,
   "id": "61325372",
   "metadata": {},
   "outputs": [
    {
     "data": {
      "text/html": [
       "<div>\n",
       "<style scoped>\n",
       "    .dataframe tbody tr th:only-of-type {\n",
       "        vertical-align: middle;\n",
       "    }\n",
       "\n",
       "    .dataframe tbody tr th {\n",
       "        vertical-align: top;\n",
       "    }\n",
       "\n",
       "    .dataframe thead th {\n",
       "        text-align: right;\n",
       "    }\n",
       "</style>\n",
       "<table border=\"1\" class=\"dataframe\">\n",
       "  <thead>\n",
       "    <tr style=\"text-align: right;\">\n",
       "      <th></th>\n",
       "      <th>Marketing Spend</th>\n",
       "      <th>Administration</th>\n",
       "      <th>Transport</th>\n",
       "      <th>Area</th>\n",
       "      <th>Profit</th>\n",
       "    </tr>\n",
       "  </thead>\n",
       "  <tbody>\n",
       "    <tr>\n",
       "      <th>0</th>\n",
       "      <td>0.672530</td>\n",
       "      <td>0.345355</td>\n",
       "      <td>1.552016</td>\n",
       "      <td>Dhaka</td>\n",
       "      <td>192261.83</td>\n",
       "    </tr>\n",
       "    <tr>\n",
       "      <th>1</th>\n",
       "      <td>1.452113</td>\n",
       "      <td>0.697565</td>\n",
       "      <td>1.383714</td>\n",
       "      <td>Ctg</td>\n",
       "      <td>191792.06</td>\n",
       "    </tr>\n",
       "    <tr>\n",
       "      <th>2</th>\n",
       "      <td>1.303634</td>\n",
       "      <td>-0.524290</td>\n",
       "      <td>1.166654</td>\n",
       "      <td>Rangpur</td>\n",
       "      <td>191050.39</td>\n",
       "    </tr>\n",
       "    <tr>\n",
       "      <th>3</th>\n",
       "      <td>1.156567</td>\n",
       "      <td>-0.097977</td>\n",
       "      <td>1.017368</td>\n",
       "      <td>Dhaka</td>\n",
       "      <td>182901.99</td>\n",
       "    </tr>\n",
       "    <tr>\n",
       "      <th>4</th>\n",
       "      <td>1.119836</td>\n",
       "      <td>-0.761543</td>\n",
       "      <td>0.914576</td>\n",
       "      <td>Rangpur</td>\n",
       "      <td>166187.94</td>\n",
       "    </tr>\n",
       "  </tbody>\n",
       "</table>\n",
       "</div>"
      ],
      "text/plain": [
       "   Marketing Spend  Administration  Transport     Area     Profit\n",
       "0         0.672530        0.345355   1.552016    Dhaka  192261.83\n",
       "1         1.452113        0.697565   1.383714      Ctg  191792.06\n",
       "2         1.303634       -0.524290   1.166654  Rangpur  191050.39\n",
       "3         1.156567       -0.097977   1.017368    Dhaka  182901.99\n",
       "4         1.119836       -0.761543   0.914576  Rangpur  166187.94"
      ]
     },
     "execution_count": 60,
     "metadata": {},
     "output_type": "execute_result"
    }
   ],
   "source": [
    "df_for_Robus_scaler.head()"
   ]
  },
  {
   "cell_type": "code",
   "execution_count": null,
   "id": "a3dec08e",
   "metadata": {},
   "outputs": [],
   "source": []
  }
 ],
 "metadata": {
  "kernelspec": {
   "display_name": "Python 3",
   "language": "python",
   "name": "python3"
  },
  "language_info": {
   "codemirror_mode": {
    "name": "ipython",
    "version": 3
   },
   "file_extension": ".py",
   "mimetype": "text/x-python",
   "name": "python",
   "nbconvert_exporter": "python",
   "pygments_lexer": "ipython3",
   "version": "3.8.8"
  }
 },
 "nbformat": 4,
 "nbformat_minor": 5
}
